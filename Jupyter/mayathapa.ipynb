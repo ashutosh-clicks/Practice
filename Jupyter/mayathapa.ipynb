{
 "cells": [
  {
   "cell_type": "code",
   "execution_count": 10,
   "id": "1cae4c7d",
   "metadata": {},
   "outputs": [
    {
     "name": "stdout",
     "output_type": "stream",
     "text": [
      "Collecting pygameNote: you may need to restart the kernel to use updated packages.\n",
      "\n",
      "  Downloading pygame-2.6.1-cp311-cp311-win_amd64.whl.metadata (13 kB)\n",
      "Downloading pygame-2.6.1-cp311-cp311-win_amd64.whl (10.6 MB)\n",
      "   ---------------------------------------- 0.0/10.6 MB ? eta -:--:--\n",
      "   - -------------------------------------- 0.5/10.6 MB 3.4 MB/s eta 0:00:04\n",
      "   ---- ----------------------------------- 1.3/10.6 MB 3.2 MB/s eta 0:00:03\n",
      "   -------- ------------------------------- 2.4/10.6 MB 4.1 MB/s eta 0:00:03\n",
      "   --------- ------------------------------ 2.6/10.6 MB 3.4 MB/s eta 0:00:03\n",
      "   -------------- ------------------------- 3.9/10.6 MB 3.9 MB/s eta 0:00:02\n",
      "   --------------------- ------------------ 5.8/10.6 MB 4.8 MB/s eta 0:00:02\n",
      "   -------------------------- ------------- 7.1/10.6 MB 5.0 MB/s eta 0:00:01\n",
      "   --------------------------------- ------ 8.9/10.6 MB 5.6 MB/s eta 0:00:01\n",
      "   ---------------------------------------- 10.6/10.6 MB 5.8 MB/s  0:00:01\n",
      "Installing collected packages: pygame\n",
      "Successfully installed pygame-2.6.1\n"
     ]
    }
   ],
   "source": [
    "pip install pygame"
   ]
  },
  {
   "cell_type": "code",
   "execution_count": 4,
   "id": "c12d9848",
   "metadata": {},
   "outputs": [
    {
     "ename": "SyntaxError",
     "evalue": "'(' was never closed (1654434128.py, line 3)",
     "output_type": "error",
     "traceback": [
      "\u001b[1;36m  Cell \u001b[1;32mIn[4], line 3\u001b[1;36m\u001b[0m\n\u001b[1;33m    print(\" \"*(i-j)\u001b[0m\n\u001b[1;37m         ^\u001b[0m\n\u001b[1;31mSyntaxError\u001b[0m\u001b[1;31m:\u001b[0m '(' was never closed\n"
     ]
    }
   ],
   "source": [
    "for i in range(5):\n",
    "    val = 1\n",
    "    print(\" \"*(i-j)\n",
    "    for j in range(i):\n",
    "        print(val,end = \" \")\n",
    "        val = val*(i-j)//(j+1)\n",
    "    print()"
   ]
  },
  {
   "cell_type": "code",
   "execution_count": null,
   "id": "be3e7a8b",
   "metadata": {},
   "outputs": [],
   "source": [
    "import pandas as pd\n",
    "\n",
    "a = [1,2,3,4,5]\n",
    "b = [5,6,7,8,9]\n",
    "\n",
    "s1 = pd.Series(a)\n",
    "s1\n",
    "s2 = pd.DataFrame([a,b],[1,2], columns=['a','b','c','d','e'])\n",
    "s2\n"
   ]
  }
 ],
 "metadata": {
  "kernelspec": {
   "display_name": "Python 3",
   "language": "python",
   "name": "python3"
  },
  "language_info": {
   "codemirror_mode": {
    "name": "ipython",
    "version": 3
   },
   "file_extension": ".py",
   "mimetype": "text/x-python",
   "name": "python",
   "nbconvert_exporter": "python",
   "pygments_lexer": "ipython3",
   "version": "3.11.9"
  }
 },
 "nbformat": 4,
 "nbformat_minor": 5
}
