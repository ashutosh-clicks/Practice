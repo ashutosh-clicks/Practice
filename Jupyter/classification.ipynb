{
 "cells": [
  {
   "cell_type": "code",
   "execution_count": 1,
   "id": "41469694",
   "metadata": {},
   "outputs": [
    {
     "data": {
      "text/plain": [
       "Monday       5\n",
       "Tuesday      4\n",
       "Wednesday    3\n",
       "Thursday     4\n",
       "Friday       2\n",
       "dtype: int64"
      ]
     },
     "execution_count": 1,
     "metadata": {},
     "output_type": "execute_result"
    }
   ],
   "source": [
    "import numpy as np\n",
    "import pandas as pd\n",
    "\n",
    "classes = {\"Monday\":['DBMS', 'MathML', 'English', 'Git', 'ADA'],\n",
    "           \"Tuesday\": ['ADA','Python','English','Git'],\n",
    "           \"Wednesday\": ['MathML','Git','Python'],\n",
    "           \"Thursday\": ['Python','DBMS','MathML','Basic'],\n",
    "           \"Friday\": ['ADA','DBMS']}\n",
    "classlist = []\n",
    "classesdf = pd.DataFrame({key:pd.Series(value) for key, value in classes.items()})\n",
    "classesdf.transpose()\n",
    "classesdf.count()"
   ]
  }
 ],
 "metadata": {
  "kernelspec": {
   "display_name": "Python 3",
   "language": "python",
   "name": "python3"
  },
  "language_info": {
   "codemirror_mode": {
    "name": "ipython",
    "version": 3
   },
   "file_extension": ".py",
   "mimetype": "text/x-python",
   "name": "python",
   "nbconvert_exporter": "python",
   "pygments_lexer": "ipython3",
   "version": "3.11.9"
  }
 },
 "nbformat": 4,
 "nbformat_minor": 5
}
