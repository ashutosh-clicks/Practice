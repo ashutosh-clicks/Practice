{
 "cells": [
  {
   "cell_type": "code",
   "execution_count": 1,
   "id": "6f8ebb7a",
   "metadata": {},
   "outputs": [],
   "source": [
    "import pandas as pd\n",
    "import matplotlib.pyplot as plt\n",
    "import numpy as np\n",
    "from sklearn.neighbors import KNeighborsClassifier\n",
    "from sklearn.preprocessing import StandardScaler\n",
    "import seaborn as sns\n",
    "from sklearn.model_selection import train_test_split\n",
    "from sklearn.preprocessing import normalize\n",
    "from sklearn.metrics import accuracy_score\n"
   ]
  },
  {
   "cell_type": "code",
   "execution_count": 2,
   "id": "3fe9e637",
   "metadata": {},
   "outputs": [
    {
     "data": {
      "text/html": [
       "<div>\n",
       "<style scoped>\n",
       "    .dataframe tbody tr th:only-of-type {\n",
       "        vertical-align: middle;\n",
       "    }\n",
       "\n",
       "    .dataframe tbody tr th {\n",
       "        vertical-align: top;\n",
       "    }\n",
       "\n",
       "    .dataframe thead th {\n",
       "        text-align: right;\n",
       "    }\n",
       "</style>\n",
       "<table border=\"1\" class=\"dataframe\">\n",
       "  <thead>\n",
       "    <tr style=\"text-align: right;\">\n",
       "      <th></th>\n",
       "      <th>region</th>\n",
       "      <th>tenure</th>\n",
       "      <th>age</th>\n",
       "      <th>marital</th>\n",
       "      <th>address</th>\n",
       "      <th>income</th>\n",
       "      <th>ed</th>\n",
       "      <th>employ</th>\n",
       "      <th>retire</th>\n",
       "      <th>gender</th>\n",
       "      <th>reside</th>\n",
       "      <th>custcat</th>\n",
       "    </tr>\n",
       "  </thead>\n",
       "  <tbody>\n",
       "    <tr>\n",
       "      <th>0</th>\n",
       "      <td>2</td>\n",
       "      <td>13</td>\n",
       "      <td>44</td>\n",
       "      <td>1</td>\n",
       "      <td>9</td>\n",
       "      <td>64.0</td>\n",
       "      <td>4</td>\n",
       "      <td>5</td>\n",
       "      <td>0.0</td>\n",
       "      <td>0</td>\n",
       "      <td>2</td>\n",
       "      <td>1</td>\n",
       "    </tr>\n",
       "    <tr>\n",
       "      <th>1</th>\n",
       "      <td>3</td>\n",
       "      <td>11</td>\n",
       "      <td>33</td>\n",
       "      <td>1</td>\n",
       "      <td>7</td>\n",
       "      <td>136.0</td>\n",
       "      <td>5</td>\n",
       "      <td>5</td>\n",
       "      <td>0.0</td>\n",
       "      <td>0</td>\n",
       "      <td>6</td>\n",
       "      <td>4</td>\n",
       "    </tr>\n",
       "    <tr>\n",
       "      <th>2</th>\n",
       "      <td>3</td>\n",
       "      <td>68</td>\n",
       "      <td>52</td>\n",
       "      <td>1</td>\n",
       "      <td>24</td>\n",
       "      <td>116.0</td>\n",
       "      <td>1</td>\n",
       "      <td>29</td>\n",
       "      <td>0.0</td>\n",
       "      <td>1</td>\n",
       "      <td>2</td>\n",
       "      <td>3</td>\n",
       "    </tr>\n",
       "    <tr>\n",
       "      <th>3</th>\n",
       "      <td>2</td>\n",
       "      <td>33</td>\n",
       "      <td>33</td>\n",
       "      <td>0</td>\n",
       "      <td>12</td>\n",
       "      <td>33.0</td>\n",
       "      <td>2</td>\n",
       "      <td>0</td>\n",
       "      <td>0.0</td>\n",
       "      <td>1</td>\n",
       "      <td>1</td>\n",
       "      <td>1</td>\n",
       "    </tr>\n",
       "    <tr>\n",
       "      <th>4</th>\n",
       "      <td>2</td>\n",
       "      <td>23</td>\n",
       "      <td>30</td>\n",
       "      <td>1</td>\n",
       "      <td>9</td>\n",
       "      <td>30.0</td>\n",
       "      <td>1</td>\n",
       "      <td>2</td>\n",
       "      <td>0.0</td>\n",
       "      <td>0</td>\n",
       "      <td>4</td>\n",
       "      <td>3</td>\n",
       "    </tr>\n",
       "  </tbody>\n",
       "</table>\n",
       "</div>"
      ],
      "text/plain": [
       "   region  tenure  age  marital  address  income  ed  employ  retire  gender  \\\n",
       "0       2      13   44        1        9    64.0   4       5     0.0       0   \n",
       "1       3      11   33        1        7   136.0   5       5     0.0       0   \n",
       "2       3      68   52        1       24   116.0   1      29     0.0       1   \n",
       "3       2      33   33        0       12    33.0   2       0     0.0       1   \n",
       "4       2      23   30        1        9    30.0   1       2     0.0       0   \n",
       "\n",
       "   reside  custcat  \n",
       "0       2        1  \n",
       "1       6        4  \n",
       "2       2        3  \n",
       "3       1        1  \n",
       "4       4        3  "
      ]
     },
     "execution_count": 2,
     "metadata": {},
     "output_type": "execute_result"
    }
   ],
   "source": [
    "df = pd.read_csv('https://cf-courses-data.s3.us.cloud-object-storage.appdomain.cloud/IBMDeveloperSkillsNetwork-ML0101EN-SkillsNetwork/labs/Module%203/data/teleCust1000t.csv')\n",
    "df.head()"
   ]
  },
  {
   "cell_type": "code",
   "execution_count": 11,
   "id": "746197f3",
   "metadata": {},
   "outputs": [
    {
     "data": {
      "text/plain": [
       "(array([[0., 4., 7., 0., 0., 0., 0., 0., 0., 1.],\n",
       "        [0., 2., 2., 4., 0., 1., 2., 0., 0., 1.],\n",
       "        [2., 2., 2., 0., 1., 2., 0., 2., 0., 1.],\n",
       "        [0., 5., 4., 1., 0., 0., 0., 1., 0., 1.],\n",
       "        [1., 2., 3., 1., 1., 1., 1., 1., 0., 1.],\n",
       "        [0., 3., 3., 3., 1., 0., 1., 0., 0., 1.],\n",
       "        [2., 4., 4., 1., 0., 0., 0., 0., 0., 1.],\n",
       "        [2., 0., 4., 0., 1., 1., 2., 1., 0., 1.],\n",
       "        [1., 3., 3., 1., 2., 1., 0., 0., 0., 1.],\n",
       "        [0., 2., 9., 0., 0., 0., 0., 0., 0., 1.],\n",
       "        [4., 3., 3., 0., 0., 0., 0., 1., 0., 1.],\n",
       "        [0., 2., 6., 3., 0., 0., 0., 0., 0., 1.]]),\n",
       " array([-0.25499327, -0.12949395, -0.00399462,  0.12150471,  0.24700404,\n",
       "         0.37250336,  0.49800269,  0.62350202,  0.74900135,  0.87450067,\n",
       "         1.        ]),\n",
       " <a list of 12 BarContainer objects>)"
      ]
     },
     "execution_count": 11,
     "metadata": {},
     "output_type": "execute_result"
    },
    {
     "data": {
      "image/png": "[encoded data removed]",
      "text/plain": [
       "<Figure size 640x480 with 1 Axes>"
      ]
     },
     "metadata": {},
     "output_type": "display_data"
    }
   ],
   "source": [
    "corr = df.corr()\n",
    "# sns.heatmap(corr,annot = True,linewidths=1)\n",
    "plt.hist(corr)"
   ]
  },
  {
   "cell_type": "code",
   "execution_count": 4,
   "id": "cfbce8b6",
   "metadata": {},
   "outputs": [
    {
     "data": {
      "text/plain": [
       "ed         0.193864\n",
       "tenure     0.166691\n",
       "income     0.134525\n",
       "employ     0.110011\n",
       "marital    0.083836\n",
       "reside     0.082022\n",
       "address    0.067913\n",
       "age        0.056909\n",
       "region     0.023771\n",
       "retire     0.008908\n",
       "gender     0.004966\n",
       "Name: custcat, dtype: float64"
      ]
     },
     "execution_count": 4,
     "metadata": {},
     "output_type": "execute_result"
    }
   ],
   "source": [
    "corr_values = abs(df.corr()['custcat'].drop('custcat')).sort_values(ascending = False)\n",
    "corr_values"
   ]
  },
  {
   "cell_type": "code",
   "execution_count": 5,
   "id": "6cb9afe9",
   "metadata": {},
   "outputs": [
    {
     "data": {
      "text/plain": [
       "array([[0.01388889, 0.09027778, 0.30555556, ..., 0.        , 0.        ,\n",
       "        0.01388889],\n",
       "       [0.01449275, 0.0531401 , 0.15942029, ..., 0.        , 0.        ,\n",
       "        0.02898551],\n",
       "       [0.01010101, 0.22895623, 0.17508418, ..., 0.        , 0.003367  ,\n",
       "        0.00673401],\n",
       "       ...,\n",
       "       [0.00260191, 0.05810928, 0.05117086, ..., 0.        , 0.0008673 ,\n",
       "        0.0008673 ],\n",
       "       [0.01185771, 0.27667984, 0.19367589, ..., 0.        , 0.00395257,\n",
       "        0.00395257],\n",
       "       [0.02054795, 0.34246575, 0.24657534, ..., 0.        , 0.00684932,\n",
       "        0.02054795]])"
      ]
     },
     "execution_count": 5,
     "metadata": {},
     "output_type": "execute_result"
    }
   ],
   "source": [
    "y = df['custcat']\n",
    "X = df.drop(['custcat'],axis =1)\n",
    "X_norm = normalize(X,norm = 'l1')\n",
    "# X_norm = StandardScaler().fit_transform(X)\n",
    "X_norm"
   ]
  },
  {
   "cell_type": "code",
   "execution_count": 8,
   "id": "45a89b86",
   "metadata": {},
   "outputs": [
    {
     "name": "stdout",
     "output_type": "stream",
     "text": [
      "0.325\n"
     ]
    }
   ],
   "source": [
    "X_train,X_test,y_train,y_test = train_test_split(X,y,random_state=10,test_size=0.2)\n",
    "k = 1\n",
    "knn = KNeighborsClassifier(n_neighbors=k)\n",
    "model = knn.fit(X_train,y_train)\n",
    "pred_val = model.predict(X_test)\n",
    "acc = accuracy_score(y_test,pred_val)\n",
    "print(acc)"
   ]
  },
  {
   "cell_type": "code",
   "execution_count": 9,
   "id": "defcab0d",
   "metadata": {},
   "outputs": [
    {
     "name": "stdout",
     "output_type": "stream",
     "text": [
      "0.4\n"
     ]
    },
    {
     "data": {
      "image/png": "[encoded data removed]",
      "text/plain": [
       "<Figure size 640x480 with 1 Axes>"
      ]
     },
     "metadata": {},
     "output_type": "display_data"
    }
   ],
   "source": [
    "acclist = []\n",
    "k = 1\n",
    "for i in range(1,101):\n",
    "    knn = KNeighborsClassifier(n_neighbors=k)\n",
    "    model = knn.fit(X_train,y_train)\n",
    "    pred_val = model.predict(X_test)\n",
    "    acc = accuracy_score(y_test,pred_val)\n",
    "    acclist.append(acc)\n",
    "    k = k+1\n",
    "\n",
    "print(acclist[38])\n",
    "\n",
    "plt.plot(acclist)\n",
    "plt.show()\n",
    "# k = 39 and k= 38 gives the highest accuracy"
   ]
  },
  {
   "cell_type": "code",
   "execution_count": null,
   "id": "2cfd454b",
   "metadata": {},
   "outputs": [],
   "source": []
  }
 ],
 "metadata": {
  "kernelspec": {
   "display_name": "Python 3",
   "language": "python",
   "name": "python3"
  },
  "language_info": {
   "codemirror_mode": {
    "name": "ipython",
    "version": 3
   },
   "file_extension": ".py",
   "mimetype": "text/x-python",
   "name": "python",
   "nbconvert_exporter": "python",
   "pygments_lexer": "ipython3",
   "version": "3.11.9"
  }
 },
 "nbformat": 4,
 "nbformat_minor": 5
}
